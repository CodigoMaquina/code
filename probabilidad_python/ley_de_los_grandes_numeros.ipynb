{
  "nbformat": 4,
  "nbformat_minor": 0,
  "metadata": {
    "colab": {
      "provenance": []
    },
    "kernelspec": {
      "name": "python3",
      "display_name": "Python 3"
    },
    "language_info": {
      "name": "python"
    }
  },
  "cells": [
    {
      "cell_type": "markdown",
      "source": [
        "@author: Octavio Gutiérrez de Código Máquina\n",
        "\n",
        "URL del canal: https://www.youtube.com/CodigoMaquina\n",
        "\n",
        "URL del video: https://youtu.be/_UTE_ZdPmxI\n",
        "\n",
        "# Ilustración de la Ley de los Grandes Números\n",
        "## Experimento: Lanzamiento de dos dados de 6 caras"
      ],
      "metadata": {
        "id": "jWov_aMaAY24"
      }
    },
    {
      "cell_type": "code",
      "execution_count": 1,
      "metadata": {
        "id": "pIQA7UE58jQd",
        "colab": {
          "base_uri": "https://localhost:8080/"
        },
        "outputId": "3c149839-ef22-45e0-d7ad-f33c6eb59a22"
      },
      "outputs": [
        {
          "output_type": "stream",
          "name": "stdout",
          "text": [
            "El valor esperado del experimento de lanzar dos dados es 7\n",
            "Promedio del resultado de lanzar 1 par de dados: 8.0\n",
            "Promedio del resultado de lanzar 10 pares de dados: 7.3\n",
            "Promedio del resultado de lanzar 100 pares de dados: 6.74\n",
            "Promedio del resultado de lanzar 1,000 pares de dados: 6.912\n",
            "Promedio del resultado de lanzar 10,000 pares de dados: 6.9862\n",
            "Promedio del resultado de lanzar 100,000 pares de dados: 6.99493\n",
            "Promedio del resultado de lanzar 1,000,000 pares de dados: 7.000796\n"
          ]
        }
      ],
      "source": [
        "import random\n",
        "\n",
        "def grandes_numeros(experimentos):\n",
        "  \"\"\" Ilustración de la Ley de los Grandes Números\n",
        "   con el lanzamiento de dos dados \"\"\"\n",
        "  total = 0\n",
        "  for i in range(experimentos):\n",
        "    dado1 = random.randint(1, 6)\n",
        "    dado2 = random.randint(1, 6)\n",
        "    resultado = dado1 + dado2\n",
        "    total += resultado\n",
        "  return total / experimentos\n",
        "\n",
        "random.seed(5)\n",
        "print(\"El valor esperado del experimento de lanzar dos dados es 7\")\n",
        "print(\"Promedio del resultado de lanzar 1 par de dados:\", grandes_numeros(1))\n",
        "print(\"Promedio del resultado de lanzar 10 pares de dados:\", grandes_numeros(10))\n",
        "print(\"Promedio del resultado de lanzar 100 pares de dados:\", grandes_numeros(100))\n",
        "print(\"Promedio del resultado de lanzar 1,000 pares de dados:\", grandes_numeros(1000))\n",
        "print(\"Promedio del resultado de lanzar 10,000 pares de dados:\", grandes_numeros(10000))\n",
        "print(\"Promedio del resultado de lanzar 100,000 pares de dados:\", grandes_numeros(100000))\n",
        "print(\"Promedio del resultado de lanzar 1,000,000 pares de dados:\", grandes_numeros(1000000))"
      ]
    }
  ]
}
