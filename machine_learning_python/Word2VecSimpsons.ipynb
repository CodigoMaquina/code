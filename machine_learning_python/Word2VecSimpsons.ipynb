{
  "nbformat": 4,
  "nbformat_minor": 0,
  "metadata": {
    "colab": {
      "provenance": []
    },
    "kernelspec": {
      "name": "python3",
      "display_name": "Python 3"
    },
    "language_info": {
      "name": "python"
    }
  },
  "cells": [
    {
      "cell_type": "markdown",
      "source": [
        "@author: Octavio Gutiérrez de Código Máquina\n",
        "\n",
        "URL del canal: https://www.youtube.com/CodigoMaquina\n",
        "\n",
        "URL del video: https://youtu.be/_yQ0N83LXyg\n",
        "\n",
        "# Instalación de Gensim:\n",
        "## Modelado de tópicos para humanos"
      ],
      "metadata": {
        "id": "PxUFo1v1Kc8Q"
      }
    },
    {
      "cell_type": "code",
      "execution_count": 1,
      "metadata": {
        "colab": {
          "base_uri": "https://localhost:8080/"
        },
        "id": "SFq6qX9VJFqN",
        "outputId": "7f89d701-be25-4dd2-ff94-250ff6f94e56"
      },
      "outputs": [
        {
          "output_type": "stream",
          "name": "stdout",
          "text": [
            "Requirement already satisfied: gensim in /usr/local/lib/python3.11/dist-packages (4.3.3)\n",
            "Requirement already satisfied: numpy<2.0,>=1.18.5 in /usr/local/lib/python3.11/dist-packages (from gensim) (1.26.0)\n",
            "Requirement already satisfied: scipy<1.14.0,>=1.7.0 in /usr/local/lib/python3.11/dist-packages (from gensim) (1.13.1)\n",
            "Requirement already satisfied: smart-open>=1.8.1 in /usr/local/lib/python3.11/dist-packages (from gensim) (7.1.0)\n",
            "Requirement already satisfied: wrapt in /usr/local/lib/python3.11/dist-packages (from smart-open>=1.8.1->gensim) (1.17.2)\n"
          ]
        }
      ],
      "source": [
        "# Reinicia la sesión de Colab después de instalar gensim\n",
        "!pip install --upgrade gensim"
      ]
    },
    {
      "cell_type": "markdown",
      "source": [
        "# Importar Módulos"
      ],
      "metadata": {
        "id": "4YxdFN35b1Qy"
      }
    },
    {
      "cell_type": "code",
      "source": [
        "from gensim.models import Word2Vec\n",
        "import pandas as pd\n",
        "from time import time"
      ],
      "metadata": {
        "id": "bl8l8zoJJGm-"
      },
      "execution_count": 2,
      "outputs": []
    },
    {
      "cell_type": "markdown",
      "source": [
        "# Cargar corpus normalizado"
      ],
      "metadata": {
        "id": "eJ7IKliMbw55"
      }
    },
    {
      "cell_type": "code",
      "source": [
        "def carga_csv(nombre_archivo):\n",
        "  lista = []\n",
        "  with open(nombre_archivo) as dialogos:\n",
        "    for dialogo in dialogos:\n",
        "        lista.append(dialogo.strip().split(\",\"))\n",
        "  return lista\n",
        "\n",
        "# Descargar diálogos de repositorio de Código Máquina\n",
        "!wget https://raw.githubusercontent.com/CodigoMaquina/code/main/datos/dialogos_simpsons.csv\n",
        "\n",
        "# Cargar diálogos\n",
        "dialogos = carga_csv(\"dialogos_simpsons.csv\")\n",
        "\n",
        "# Ejemplo de frase original sin normalizar\n",
        "original = \"No, actually, it was a little of both. Sometimes when a disease is in all the magazines and all the news shows, it's only natural that you think you have it.\"\n",
        "\n",
        "print(\"FRASE:\", original,\"\\n\\n\", \"NORMALIZADA:\", str(dialogos[0]))"
      ],
      "metadata": {
        "id": "jJVBVU2iLIGd",
        "colab": {
          "base_uri": "https://localhost:8080/"
        },
        "outputId": "fb8fb556-8356-47b6-98e1-3775b3b9a856"
      },
      "execution_count": 3,
      "outputs": [
        {
          "output_type": "stream",
          "name": "stdout",
          "text": [
            "--2025-05-25 19:29:10--  https://raw.githubusercontent.com/CodigoMaquina/code/main/datos/dialogos_simpsons.csv\n",
            "Resolving raw.githubusercontent.com (raw.githubusercontent.com)... 185.199.111.133, 185.199.108.133, 185.199.110.133, ...\n",
            "Connecting to raw.githubusercontent.com (raw.githubusercontent.com)|185.199.111.133|:443... connected.\n",
            "HTTP request sent, awaiting response... 200 OK\n",
            "Length: 3943400 (3.8M) [text/plain]\n",
            "Saving to: ‘dialogos_simpsons.csv’\n",
            "\n",
            "dialogos_simpsons.c 100%[===================>]   3.76M  10.4MB/s    in 0.4s    \n",
            "\n",
            "2025-05-25 19:29:11 (10.4 MB/s) - ‘dialogos_simpsons.csv’ saved [3943400/3943400]\n",
            "\n",
            "FRASE: No, actually, it was a little of both. Sometimes when a disease is in all the magazines and all the news shows, it's only natural that you think you have it. \n",
            "\n",
            " NORMALIZADA: ['actually', 'little', 'sometimes', 'disease', 'magazine', 'news', 'show', 'natural', 'think']\n"
          ]
        }
      ]
    },
    {
      "cell_type": "markdown",
      "source": [
        "# Preparación del Modelo Word2Vec"
      ],
      "metadata": {
        "id": "N8h9REI_L2N4"
      }
    },
    {
      "cell_type": "code",
      "source": [
        "w2v_model = Word2Vec(min_count=20,\n",
        "                     window=3,\n",
        "                     vector_size=300,\n",
        "                     alpha=0.03,\n",
        "                     min_alpha=0.0008)"
      ],
      "metadata": {
        "id": "OFJq1i6QK8HO"
      },
      "execution_count": 4,
      "outputs": []
    },
    {
      "cell_type": "markdown",
      "source": [
        "# Creación e Impresión del Vocabulario"
      ],
      "metadata": {
        "id": "CAU-r4LPL81H"
      }
    },
    {
      "cell_type": "code",
      "source": [
        "w2v_model.build_vocab(dialogos)\n",
        "\n",
        "print(\"Primeros elementos del vocabulario:\")\n",
        "for i in range(10):\n",
        "  print(w2v_model.wv.index_to_key[i])"
      ],
      "metadata": {
        "id": "zW2mrqQGLFNk",
        "colab": {
          "base_uri": "https://localhost:8080/"
        },
        "outputId": "2fb2f27c-0794-4deb-8b68-05d190a20a26"
      },
      "execution_count": 5,
      "outputs": [
        {
          "output_type": "stream",
          "name": "stdout",
          "text": [
            "Primeros elementos del vocabulario:\n",
            "get\n",
            "go\n",
            "well\n",
            "oh\n",
            "know\n",
            "like\n",
            "one\n",
            "want\n",
            "hey\n",
            "make\n"
          ]
        }
      ]
    },
    {
      "cell_type": "markdown",
      "source": [
        "# Entrenamiento del Modelo Word2Vec"
      ],
      "metadata": {
        "id": "ShpVQhKicpAg"
      }
    },
    {
      "cell_type": "code",
      "source": [
        "inicio = time()\n",
        "w2v_model.train(dialogos, total_examples=w2v_model.corpus_count, epochs=200)\n",
        "print(\"Tiempo de entrenamiento (m):\", (time() - inicio)/60)"
      ],
      "metadata": {
        "id": "jC8IqVboLY8K",
        "colab": {
          "base_uri": "https://localhost:8080/"
        },
        "outputId": "393439b2-890d-4a9a-a8ed-639907b91446"
      },
      "execution_count": 6,
      "outputs": [
        {
          "output_type": "stream",
          "name": "stdout",
          "text": [
            "Tiempo de entrenamiento (m): 3.5568908214569093\n"
          ]
        }
      ]
    },
    {
      "cell_type": "markdown",
      "source": [
        "# Impresión de Vectores de Word2Vec"
      ],
      "metadata": {
        "id": "kDdU9IdxdRdC"
      }
    },
    {
      "cell_type": "code",
      "source": [
        "vectores = {}\n",
        "for token in w2v_model.wv.key_to_index:\n",
        "  vectores[token] = w2v_model.wv.get_vector(token)\n",
        "pd.DataFrame(vectores).T"
      ],
      "metadata": {
        "id": "5Zwovq8rMtHi",
        "colab": {
          "base_uri": "https://localhost:8080/",
          "height": 443
        },
        "outputId": "a61305b7-5851-4fcb-cdaa-ba52cda9b1c1"
      },
      "execution_count": 7,
      "outputs": [
        {
          "output_type": "execute_result",
          "data": {
            "text/plain": [
              "               0         1         2         3         4         5    \\\n",
              "get      -0.341634 -0.147085  0.452184  0.165629 -0.045593 -0.806689   \n",
              "go       -0.250801  0.348151  0.534864  0.156522  0.625729 -0.875020   \n",
              "well     -0.430355  0.989587 -0.302183 -0.099498  0.270420 -0.545650   \n",
              "oh       -0.143332  0.738958 -0.601170  0.011486 -0.636087 -0.265921   \n",
              "know      0.119214  0.460971 -0.268641 -0.496179  0.506486 -0.711128   \n",
              "...            ...       ...       ...       ...       ...       ...   \n",
              "axe       0.221762 -0.785455  0.457117 -0.719445  0.296938  0.133906   \n",
              "creation  0.838550 -2.262791 -0.200947 -0.389770  0.130256  0.404359   \n",
              "goody     1.303053 -0.817680 -0.216581 -0.444975 -0.006102  0.042719   \n",
              "sec       0.316105 -1.045335  1.698271 -0.094029  0.721454  0.763765   \n",
              "dye      -1.842836 -0.781528  0.175314  0.888877 -0.517802  1.934805   \n",
              "\n",
              "               6         7         8         9    ...       290       291  \\\n",
              "get      -0.179760  0.554167 -0.181399  0.121413  ... -0.177341 -0.190816   \n",
              "go       -0.305177  0.659000  0.406319  0.276048  ...  0.161218 -0.013050   \n",
              "well     -0.386592  0.377178  0.120030  0.269556  ...  0.382344 -1.066782   \n",
              "oh       -0.184024  0.602027 -0.433004 -0.136089  ...  0.420697 -0.238304   \n",
              "know     -0.254007  0.338830  0.358949  0.060950  ...  0.342039 -0.577183   \n",
              "...            ...       ...       ...       ...  ...       ...       ...   \n",
              "axe      -1.109314  1.398572 -1.354237 -0.012611  ... -0.305576  0.519550   \n",
              "creation -0.968281 -1.127842 -0.587720  1.191573  ...  0.075675 -0.903077   \n",
              "goody    -0.827180 -0.735294  0.851971 -0.399054  ...  0.538625 -0.110128   \n",
              "sec       0.334262  0.128074 -0.640058 -0.842532  ...  1.262637  0.848095   \n",
              "dye       0.751224 -1.096825  1.385985  1.591405  ... -0.976238  0.265135   \n",
              "\n",
              "               292       293       294       295       296       297  \\\n",
              "get      -0.130059  0.012598 -0.054698  0.143954  0.502874  0.827890   \n",
              "go        0.012121  0.197311  0.010109 -0.140635  0.359158  0.762844   \n",
              "well      0.577887  0.160749  0.468509  0.043186  0.667267  0.735951   \n",
              "oh        0.175771 -0.082627 -0.056166  0.002163  0.282298 -0.041295   \n",
              "know      0.278252 -0.061161  0.197765  0.341048  0.715658  0.805424   \n",
              "...            ...       ...       ...       ...       ...       ...   \n",
              "axe       0.095241  0.384838 -1.219508  1.763072  0.431381 -0.256670   \n",
              "creation -1.510179  1.835596 -0.865057  0.192526 -0.012474 -0.264978   \n",
              "goody    -1.306515 -0.851550  1.492288 -1.451139 -0.921094 -0.339436   \n",
              "sec       0.561692 -0.208138 -0.061811  1.385835  1.017699 -0.871946   \n",
              "dye      -0.819739 -1.260449 -1.702152  0.646930  0.316020  0.250853   \n",
              "\n",
              "               298       299  \n",
              "get       0.398336 -0.271156  \n",
              "go        0.342202 -0.630401  \n",
              "well     -0.303049 -0.907901  \n",
              "oh        0.225549 -1.057170  \n",
              "know     -0.239793 -1.477056  \n",
              "...            ...       ...  \n",
              "axe      -0.637031 -0.008623  \n",
              "creation -0.261964 -0.029345  \n",
              "goody    -0.729292  0.118068  \n",
              "sec      -0.395905  0.088709  \n",
              "dye      -0.912544  0.530783  \n",
              "\n",
              "[3629 rows x 300 columns]"
            ],
            "text/html": [
              "\n",
              "  <div id=\"df-70176f02-71ff-47e2-b5c6-2976d1846951\" class=\"colab-df-container\">\n",
              "    <div>\n",
              "<style scoped>\n",
              "    .dataframe tbody tr th:only-of-type {\n",
              "        vertical-align: middle;\n",
              "    }\n",
              "\n",
              "    .dataframe tbody tr th {\n",
              "        vertical-align: top;\n",
              "    }\n",
              "\n",
              "    .dataframe thead th {\n",
              "        text-align: right;\n",
              "    }\n",
              "</style>\n",
              "<table border=\"1\" class=\"dataframe\">\n",
              "  <thead>\n",
              "    <tr style=\"text-align: right;\">\n",
              "      <th></th>\n",
              "      <th>0</th>\n",
              "      <th>1</th>\n",
              "      <th>2</th>\n",
              "      <th>3</th>\n",
              "      <th>4</th>\n",
              "      <th>5</th>\n",
              "      <th>6</th>\n",
              "      <th>7</th>\n",
              "      <th>8</th>\n",
              "      <th>9</th>\n",
              "      <th>...</th>\n",
              "      <th>290</th>\n",
              "      <th>291</th>\n",
              "      <th>292</th>\n",
              "      <th>293</th>\n",
              "      <th>294</th>\n",
              "      <th>295</th>\n",
              "      <th>296</th>\n",
              "      <th>297</th>\n",
              "      <th>298</th>\n",
              "      <th>299</th>\n",
              "    </tr>\n",
              "  </thead>\n",
              "  <tbody>\n",
              "    <tr>\n",
              "      <th>get</th>\n",
              "      <td>-0.341634</td>\n",
              "      <td>-0.147085</td>\n",
              "      <td>0.452184</td>\n",
              "      <td>0.165629</td>\n",
              "      <td>-0.045593</td>\n",
              "      <td>-0.806689</td>\n",
              "      <td>-0.179760</td>\n",
              "      <td>0.554167</td>\n",
              "      <td>-0.181399</td>\n",
              "      <td>0.121413</td>\n",
              "      <td>...</td>\n",
              "      <td>-0.177341</td>\n",
              "      <td>-0.190816</td>\n",
              "      <td>-0.130059</td>\n",
              "      <td>0.012598</td>\n",
              "      <td>-0.054698</td>\n",
              "      <td>0.143954</td>\n",
              "      <td>0.502874</td>\n",
              "      <td>0.827890</td>\n",
              "      <td>0.398336</td>\n",
              "      <td>-0.271156</td>\n",
              "    </tr>\n",
              "    <tr>\n",
              "      <th>go</th>\n",
              "      <td>-0.250801</td>\n",
              "      <td>0.348151</td>\n",
              "      <td>0.534864</td>\n",
              "      <td>0.156522</td>\n",
              "      <td>0.625729</td>\n",
              "      <td>-0.875020</td>\n",
              "      <td>-0.305177</td>\n",
              "      <td>0.659000</td>\n",
              "      <td>0.406319</td>\n",
              "      <td>0.276048</td>\n",
              "      <td>...</td>\n",
              "      <td>0.161218</td>\n",
              "      <td>-0.013050</td>\n",
              "      <td>0.012121</td>\n",
              "      <td>0.197311</td>\n",
              "      <td>0.010109</td>\n",
              "      <td>-0.140635</td>\n",
              "      <td>0.359158</td>\n",
              "      <td>0.762844</td>\n",
              "      <td>0.342202</td>\n",
              "      <td>-0.630401</td>\n",
              "    </tr>\n",
              "    <tr>\n",
              "      <th>well</th>\n",
              "      <td>-0.430355</td>\n",
              "      <td>0.989587</td>\n",
              "      <td>-0.302183</td>\n",
              "      <td>-0.099498</td>\n",
              "      <td>0.270420</td>\n",
              "      <td>-0.545650</td>\n",
              "      <td>-0.386592</td>\n",
              "      <td>0.377178</td>\n",
              "      <td>0.120030</td>\n",
              "      <td>0.269556</td>\n",
              "      <td>...</td>\n",
              "      <td>0.382344</td>\n",
              "      <td>-1.066782</td>\n",
              "      <td>0.577887</td>\n",
              "      <td>0.160749</td>\n",
              "      <td>0.468509</td>\n",
              "      <td>0.043186</td>\n",
              "      <td>0.667267</td>\n",
              "      <td>0.735951</td>\n",
              "      <td>-0.303049</td>\n",
              "      <td>-0.907901</td>\n",
              "    </tr>\n",
              "    <tr>\n",
              "      <th>oh</th>\n",
              "      <td>-0.143332</td>\n",
              "      <td>0.738958</td>\n",
              "      <td>-0.601170</td>\n",
              "      <td>0.011486</td>\n",
              "      <td>-0.636087</td>\n",
              "      <td>-0.265921</td>\n",
              "      <td>-0.184024</td>\n",
              "      <td>0.602027</td>\n",
              "      <td>-0.433004</td>\n",
              "      <td>-0.136089</td>\n",
              "      <td>...</td>\n",
              "      <td>0.420697</td>\n",
              "      <td>-0.238304</td>\n",
              "      <td>0.175771</td>\n",
              "      <td>-0.082627</td>\n",
              "      <td>-0.056166</td>\n",
              "      <td>0.002163</td>\n",
              "      <td>0.282298</td>\n",
              "      <td>-0.041295</td>\n",
              "      <td>0.225549</td>\n",
              "      <td>-1.057170</td>\n",
              "    </tr>\n",
              "    <tr>\n",
              "      <th>know</th>\n",
              "      <td>0.119214</td>\n",
              "      <td>0.460971</td>\n",
              "      <td>-0.268641</td>\n",
              "      <td>-0.496179</td>\n",
              "      <td>0.506486</td>\n",
              "      <td>-0.711128</td>\n",
              "      <td>-0.254007</td>\n",
              "      <td>0.338830</td>\n",
              "      <td>0.358949</td>\n",
              "      <td>0.060950</td>\n",
              "      <td>...</td>\n",
              "      <td>0.342039</td>\n",
              "      <td>-0.577183</td>\n",
              "      <td>0.278252</td>\n",
              "      <td>-0.061161</td>\n",
              "      <td>0.197765</td>\n",
              "      <td>0.341048</td>\n",
              "      <td>0.715658</td>\n",
              "      <td>0.805424</td>\n",
              "      <td>-0.239793</td>\n",
              "      <td>-1.477056</td>\n",
              "    </tr>\n",
              "    <tr>\n",
              "      <th>...</th>\n",
              "      <td>...</td>\n",
              "      <td>...</td>\n",
              "      <td>...</td>\n",
              "      <td>...</td>\n",
              "      <td>...</td>\n",
              "      <td>...</td>\n",
              "      <td>...</td>\n",
              "      <td>...</td>\n",
              "      <td>...</td>\n",
              "      <td>...</td>\n",
              "      <td>...</td>\n",
              "      <td>...</td>\n",
              "      <td>...</td>\n",
              "      <td>...</td>\n",
              "      <td>...</td>\n",
              "      <td>...</td>\n",
              "      <td>...</td>\n",
              "      <td>...</td>\n",
              "      <td>...</td>\n",
              "      <td>...</td>\n",
              "      <td>...</td>\n",
              "    </tr>\n",
              "    <tr>\n",
              "      <th>axe</th>\n",
              "      <td>0.221762</td>\n",
              "      <td>-0.785455</td>\n",
              "      <td>0.457117</td>\n",
              "      <td>-0.719445</td>\n",
              "      <td>0.296938</td>\n",
              "      <td>0.133906</td>\n",
              "      <td>-1.109314</td>\n",
              "      <td>1.398572</td>\n",
              "      <td>-1.354237</td>\n",
              "      <td>-0.012611</td>\n",
              "      <td>...</td>\n",
              "      <td>-0.305576</td>\n",
              "      <td>0.519550</td>\n",
              "      <td>0.095241</td>\n",
              "      <td>0.384838</td>\n",
              "      <td>-1.219508</td>\n",
              "      <td>1.763072</td>\n",
              "      <td>0.431381</td>\n",
              "      <td>-0.256670</td>\n",
              "      <td>-0.637031</td>\n",
              "      <td>-0.008623</td>\n",
              "    </tr>\n",
              "    <tr>\n",
              "      <th>creation</th>\n",
              "      <td>0.838550</td>\n",
              "      <td>-2.262791</td>\n",
              "      <td>-0.200947</td>\n",
              "      <td>-0.389770</td>\n",
              "      <td>0.130256</td>\n",
              "      <td>0.404359</td>\n",
              "      <td>-0.968281</td>\n",
              "      <td>-1.127842</td>\n",
              "      <td>-0.587720</td>\n",
              "      <td>1.191573</td>\n",
              "      <td>...</td>\n",
              "      <td>0.075675</td>\n",
              "      <td>-0.903077</td>\n",
              "      <td>-1.510179</td>\n",
              "      <td>1.835596</td>\n",
              "      <td>-0.865057</td>\n",
              "      <td>0.192526</td>\n",
              "      <td>-0.012474</td>\n",
              "      <td>-0.264978</td>\n",
              "      <td>-0.261964</td>\n",
              "      <td>-0.029345</td>\n",
              "    </tr>\n",
              "    <tr>\n",
              "      <th>goody</th>\n",
              "      <td>1.303053</td>\n",
              "      <td>-0.817680</td>\n",
              "      <td>-0.216581</td>\n",
              "      <td>-0.444975</td>\n",
              "      <td>-0.006102</td>\n",
              "      <td>0.042719</td>\n",
              "      <td>-0.827180</td>\n",
              "      <td>-0.735294</td>\n",
              "      <td>0.851971</td>\n",
              "      <td>-0.399054</td>\n",
              "      <td>...</td>\n",
              "      <td>0.538625</td>\n",
              "      <td>-0.110128</td>\n",
              "      <td>-1.306515</td>\n",
              "      <td>-0.851550</td>\n",
              "      <td>1.492288</td>\n",
              "      <td>-1.451139</td>\n",
              "      <td>-0.921094</td>\n",
              "      <td>-0.339436</td>\n",
              "      <td>-0.729292</td>\n",
              "      <td>0.118068</td>\n",
              "    </tr>\n",
              "    <tr>\n",
              "      <th>sec</th>\n",
              "      <td>0.316105</td>\n",
              "      <td>-1.045335</td>\n",
              "      <td>1.698271</td>\n",
              "      <td>-0.094029</td>\n",
              "      <td>0.721454</td>\n",
              "      <td>0.763765</td>\n",
              "      <td>0.334262</td>\n",
              "      <td>0.128074</td>\n",
              "      <td>-0.640058</td>\n",
              "      <td>-0.842532</td>\n",
              "      <td>...</td>\n",
              "      <td>1.262637</td>\n",
              "      <td>0.848095</td>\n",
              "      <td>0.561692</td>\n",
              "      <td>-0.208138</td>\n",
              "      <td>-0.061811</td>\n",
              "      <td>1.385835</td>\n",
              "      <td>1.017699</td>\n",
              "      <td>-0.871946</td>\n",
              "      <td>-0.395905</td>\n",
              "      <td>0.088709</td>\n",
              "    </tr>\n",
              "    <tr>\n",
              "      <th>dye</th>\n",
              "      <td>-1.842836</td>\n",
              "      <td>-0.781528</td>\n",
              "      <td>0.175314</td>\n",
              "      <td>0.888877</td>\n",
              "      <td>-0.517802</td>\n",
              "      <td>1.934805</td>\n",
              "      <td>0.751224</td>\n",
              "      <td>-1.096825</td>\n",
              "      <td>1.385985</td>\n",
              "      <td>1.591405</td>\n",
              "      <td>...</td>\n",
              "      <td>-0.976238</td>\n",
              "      <td>0.265135</td>\n",
              "      <td>-0.819739</td>\n",
              "      <td>-1.260449</td>\n",
              "      <td>-1.702152</td>\n",
              "      <td>0.646930</td>\n",
              "      <td>0.316020</td>\n",
              "      <td>0.250853</td>\n",
              "      <td>-0.912544</td>\n",
              "      <td>0.530783</td>\n",
              "    </tr>\n",
              "  </tbody>\n",
              "</table>\n",
              "<p>3629 rows × 300 columns</p>\n",
              "</div>\n",
              "    <div class=\"colab-df-buttons\">\n",
              "\n",
              "  <div class=\"colab-df-container\">\n",
              "    <button class=\"colab-df-convert\" onclick=\"convertToInteractive('df-70176f02-71ff-47e2-b5c6-2976d1846951')\"\n",
              "            title=\"Convert this dataframe to an interactive table.\"\n",
              "            style=\"display:none;\">\n",
              "\n",
              "  <svg xmlns=\"http://www.w3.org/2000/svg\" height=\"24px\" viewBox=\"0 -960 960 960\">\n",
              "    <path d=\"M120-120v-720h720v720H120Zm60-500h600v-160H180v160Zm220 220h160v-160H400v160Zm0 220h160v-160H400v160ZM180-400h160v-160H180v160Zm440 0h160v-160H620v160ZM180-180h160v-160H180v160Zm440 0h160v-160H620v160Z\"/>\n",
              "  </svg>\n",
              "    </button>\n",
              "\n",
              "  <style>\n",
              "    .colab-df-container {\n",
              "      display:flex;\n",
              "      gap: 12px;\n",
              "    }\n",
              "\n",
              "    .colab-df-convert {\n",
              "      background-color: #E8F0FE;\n",
              "      border: none;\n",
              "      border-radius: 50%;\n",
              "      cursor: pointer;\n",
              "      display: none;\n",
              "      fill: #1967D2;\n",
              "      height: 32px;\n",
              "      padding: 0 0 0 0;\n",
              "      width: 32px;\n",
              "    }\n",
              "\n",
              "    .colab-df-convert:hover {\n",
              "      background-color: #E2EBFA;\n",
              "      box-shadow: 0px 1px 2px rgba(60, 64, 67, 0.3), 0px 1px 3px 1px rgba(60, 64, 67, 0.15);\n",
              "      fill: #174EA6;\n",
              "    }\n",
              "\n",
              "    .colab-df-buttons div {\n",
              "      margin-bottom: 4px;\n",
              "    }\n",
              "\n",
              "    [theme=dark] .colab-df-convert {\n",
              "      background-color: #3B4455;\n",
              "      fill: #D2E3FC;\n",
              "    }\n",
              "\n",
              "    [theme=dark] .colab-df-convert:hover {\n",
              "      background-color: #434B5C;\n",
              "      box-shadow: 0px 1px 3px 1px rgba(0, 0, 0, 0.15);\n",
              "      filter: drop-shadow(0px 1px 2px rgba(0, 0, 0, 0.3));\n",
              "      fill: #FFFFFF;\n",
              "    }\n",
              "  </style>\n",
              "\n",
              "    <script>\n",
              "      const buttonEl =\n",
              "        document.querySelector('#df-70176f02-71ff-47e2-b5c6-2976d1846951 button.colab-df-convert');\n",
              "      buttonEl.style.display =\n",
              "        google.colab.kernel.accessAllowed ? 'block' : 'none';\n",
              "\n",
              "      async function convertToInteractive(key) {\n",
              "        const element = document.querySelector('#df-70176f02-71ff-47e2-b5c6-2976d1846951');\n",
              "        const dataTable =\n",
              "          await google.colab.kernel.invokeFunction('convertToInteractive',\n",
              "                                                    [key], {});\n",
              "        if (!dataTable) return;\n",
              "\n",
              "        const docLinkHtml = 'Like what you see? Visit the ' +\n",
              "          '<a target=\"_blank\" href=https://colab.research.google.com/notebooks/data_table.ipynb>data table notebook</a>'\n",
              "          + ' to learn more about interactive tables.';\n",
              "        element.innerHTML = '';\n",
              "        dataTable['output_type'] = 'display_data';\n",
              "        await google.colab.output.renderOutput(dataTable, element);\n",
              "        const docLink = document.createElement('div');\n",
              "        docLink.innerHTML = docLinkHtml;\n",
              "        element.appendChild(docLink);\n",
              "      }\n",
              "    </script>\n",
              "  </div>\n",
              "\n",
              "\n",
              "    <div id=\"df-cfaa62ad-eaa7-4da3-a68a-18e4218d2c97\">\n",
              "      <button class=\"colab-df-quickchart\" onclick=\"quickchart('df-cfaa62ad-eaa7-4da3-a68a-18e4218d2c97')\"\n",
              "                title=\"Suggest charts\"\n",
              "                style=\"display:none;\">\n",
              "\n",
              "<svg xmlns=\"http://www.w3.org/2000/svg\" height=\"24px\"viewBox=\"0 0 24 24\"\n",
              "     width=\"24px\">\n",
              "    <g>\n",
              "        <path d=\"M19 3H5c-1.1 0-2 .9-2 2v14c0 1.1.9 2 2 2h14c1.1 0 2-.9 2-2V5c0-1.1-.9-2-2-2zM9 17H7v-7h2v7zm4 0h-2V7h2v10zm4 0h-2v-4h2v4z\"/>\n",
              "    </g>\n",
              "</svg>\n",
              "      </button>\n",
              "\n",
              "<style>\n",
              "  .colab-df-quickchart {\n",
              "      --bg-color: #E8F0FE;\n",
              "      --fill-color: #1967D2;\n",
              "      --hover-bg-color: #E2EBFA;\n",
              "      --hover-fill-color: #174EA6;\n",
              "      --disabled-fill-color: #AAA;\n",
              "      --disabled-bg-color: #DDD;\n",
              "  }\n",
              "\n",
              "  [theme=dark] .colab-df-quickchart {\n",
              "      --bg-color: #3B4455;\n",
              "      --fill-color: #D2E3FC;\n",
              "      --hover-bg-color: #434B5C;\n",
              "      --hover-fill-color: #FFFFFF;\n",
              "      --disabled-bg-color: #3B4455;\n",
              "      --disabled-fill-color: #666;\n",
              "  }\n",
              "\n",
              "  .colab-df-quickchart {\n",
              "    background-color: var(--bg-color);\n",
              "    border: none;\n",
              "    border-radius: 50%;\n",
              "    cursor: pointer;\n",
              "    display: none;\n",
              "    fill: var(--fill-color);\n",
              "    height: 32px;\n",
              "    padding: 0;\n",
              "    width: 32px;\n",
              "  }\n",
              "\n",
              "  .colab-df-quickchart:hover {\n",
              "    background-color: var(--hover-bg-color);\n",
              "    box-shadow: 0 1px 2px rgba(60, 64, 67, 0.3), 0 1px 3px 1px rgba(60, 64, 67, 0.15);\n",
              "    fill: var(--button-hover-fill-color);\n",
              "  }\n",
              "\n",
              "  .colab-df-quickchart-complete:disabled,\n",
              "  .colab-df-quickchart-complete:disabled:hover {\n",
              "    background-color: var(--disabled-bg-color);\n",
              "    fill: var(--disabled-fill-color);\n",
              "    box-shadow: none;\n",
              "  }\n",
              "\n",
              "  .colab-df-spinner {\n",
              "    border: 2px solid var(--fill-color);\n",
              "    border-color: transparent;\n",
              "    border-bottom-color: var(--fill-color);\n",
              "    animation:\n",
              "      spin 1s steps(1) infinite;\n",
              "  }\n",
              "\n",
              "  @keyframes spin {\n",
              "    0% {\n",
              "      border-color: transparent;\n",
              "      border-bottom-color: var(--fill-color);\n",
              "      border-left-color: var(--fill-color);\n",
              "    }\n",
              "    20% {\n",
              "      border-color: transparent;\n",
              "      border-left-color: var(--fill-color);\n",
              "      border-top-color: var(--fill-color);\n",
              "    }\n",
              "    30% {\n",
              "      border-color: transparent;\n",
              "      border-left-color: var(--fill-color);\n",
              "      border-top-color: var(--fill-color);\n",
              "      border-right-color: var(--fill-color);\n",
              "    }\n",
              "    40% {\n",
              "      border-color: transparent;\n",
              "      border-right-color: var(--fill-color);\n",
              "      border-top-color: var(--fill-color);\n",
              "    }\n",
              "    60% {\n",
              "      border-color: transparent;\n",
              "      border-right-color: var(--fill-color);\n",
              "    }\n",
              "    80% {\n",
              "      border-color: transparent;\n",
              "      border-right-color: var(--fill-color);\n",
              "      border-bottom-color: var(--fill-color);\n",
              "    }\n",
              "    90% {\n",
              "      border-color: transparent;\n",
              "      border-bottom-color: var(--fill-color);\n",
              "    }\n",
              "  }\n",
              "</style>\n",
              "\n",
              "      <script>\n",
              "        async function quickchart(key) {\n",
              "          const quickchartButtonEl =\n",
              "            document.querySelector('#' + key + ' button');\n",
              "          quickchartButtonEl.disabled = true;  // To prevent multiple clicks.\n",
              "          quickchartButtonEl.classList.add('colab-df-spinner');\n",
              "          try {\n",
              "            const charts = await google.colab.kernel.invokeFunction(\n",
              "                'suggestCharts', [key], {});\n",
              "          } catch (error) {\n",
              "            console.error('Error during call to suggestCharts:', error);\n",
              "          }\n",
              "          quickchartButtonEl.classList.remove('colab-df-spinner');\n",
              "          quickchartButtonEl.classList.add('colab-df-quickchart-complete');\n",
              "        }\n",
              "        (() => {\n",
              "          let quickchartButtonEl =\n",
              "            document.querySelector('#df-cfaa62ad-eaa7-4da3-a68a-18e4218d2c97 button');\n",
              "          quickchartButtonEl.style.display =\n",
              "            google.colab.kernel.accessAllowed ? 'block' : 'none';\n",
              "        })();\n",
              "      </script>\n",
              "    </div>\n",
              "\n",
              "    </div>\n",
              "  </div>\n"
            ],
            "application/vnd.google.colaboratory.intrinsic+json": {
              "type": "dataframe"
            }
          },
          "metadata": {},
          "execution_count": 7
        }
      ]
    },
    {
      "cell_type": "markdown",
      "source": [
        "# Impresión de Vector de Homero"
      ],
      "metadata": {
        "id": "bq23utKPdF1f"
      }
    },
    {
      "cell_type": "code",
      "source": [
        "w2v_model.wv.get_vector(\"homer\")"
      ],
      "metadata": {
        "id": "EnMngAKrdFln",
        "colab": {
          "base_uri": "https://localhost:8080/"
        },
        "outputId": "068f89a5-86b6-45fd-a9fe-4451a55b4532"
      },
      "execution_count": 8,
      "outputs": [
        {
          "output_type": "execute_result",
          "data": {
            "text/plain": [
              "array([ 0.21551219,  0.7324492 , -0.09772965,  0.06095229,  0.0999118 ,\n",
              "        0.17195983, -0.42796835,  0.73555726, -0.43890068, -0.15403172,\n",
              "        0.46705943,  0.25333604, -0.12723036,  0.11804603, -0.09819105,\n",
              "        0.3688238 ,  0.78898716, -0.4697144 , -0.17905807, -0.30443656,\n",
              "       -0.02638143, -0.10123169,  0.50068814,  0.53991574,  0.01498612,\n",
              "       -0.28858772, -0.08235972,  0.6069229 , -0.04642946,  0.14377058,\n",
              "       -0.09737492, -0.12917532,  0.18688703,  0.00200988, -0.26855507,\n",
              "        0.43361855, -0.60166234, -0.1140897 , -0.15934493, -0.47394174,\n",
              "       -0.44271696,  0.16210704,  0.4093245 ,  0.05178909,  0.6845876 ,\n",
              "        0.26417124, -0.13741554, -0.12935393,  0.442258  ,  0.367383  ,\n",
              "        0.02501332, -0.02682321,  0.51590544, -0.5147172 , -0.5206722 ,\n",
              "       -0.3135782 , -0.01828674, -0.16872741,  0.30188763, -0.14667925,\n",
              "        0.47589234, -0.36216196, -0.6799591 ,  0.58322865, -0.24766643,\n",
              "        0.365898  ,  0.41958594, -0.21645059,  0.15736462, -0.10044947,\n",
              "        0.24149111,  0.06018565,  0.37784278,  0.05348584,  0.14044039,\n",
              "       -0.46832624, -0.39744896,  0.44509265,  0.06991542,  1.404968  ,\n",
              "       -0.07491462, -0.1307357 ,  1.0377413 , -0.15162894,  0.02456091,\n",
              "        0.43063438, -0.41600394,  0.23859565,  1.0464665 ,  0.47518203,\n",
              "       -0.42961442,  0.19659466, -0.58571005, -1.1691511 ,  0.15308197,\n",
              "       -0.47538403,  0.03268689,  0.0552803 , -0.1581623 , -0.18849294,\n",
              "        0.07258348,  0.6201277 , -0.618819  , -0.53767014,  0.4091767 ,\n",
              "        0.4212678 , -0.512625  ,  0.31824663, -0.35543534,  0.01462617,\n",
              "       -0.51699305, -0.17173865, -0.76076657, -0.8583066 , -0.19091082,\n",
              "        0.18927707,  0.13221142, -0.730677  ,  0.40283298, -0.9299103 ,\n",
              "       -0.38203064,  0.16242552,  0.5179094 , -1.001218  ,  0.7392553 ,\n",
              "       -0.8257402 , -0.16348329, -0.3745589 ,  0.58425206, -1.1533682 ,\n",
              "        0.6746617 ,  0.2012556 , -0.22065912,  0.19846411,  0.3287915 ,\n",
              "        0.18616973,  0.2462957 , -0.1526311 ,  0.52559114,  0.00923683,\n",
              "       -0.19728237, -0.67741126, -0.02238742, -0.22260165,  0.74345654,\n",
              "        0.45567563, -0.6210869 , -0.32637236,  0.11869948, -0.1285549 ,\n",
              "       -0.16487569, -0.6254145 ,  0.42537764,  0.45405966,  0.7531777 ,\n",
              "        0.30330276,  0.47813645,  0.16884518, -0.16883299, -0.2701858 ,\n",
              "        0.11024401,  0.12330128,  0.04694583, -0.03415668, -0.08872504,\n",
              "       -0.00925832, -0.24268612, -1.1793582 ,  0.40444788,  0.08141025,\n",
              "        0.29269826, -0.3797353 , -0.02522655,  0.613481  ,  0.83979386,\n",
              "       -0.2791548 ,  0.21221927, -0.99739105, -0.19243093,  0.79573107,\n",
              "        0.27535808,  0.66840464,  0.22588047, -0.21090108,  0.31223914,\n",
              "       -0.23613766, -0.37234133,  0.08068541,  0.19054471, -0.15107216,\n",
              "        1.261343  , -0.2998198 ,  0.03067011,  0.00412285, -0.19780065,\n",
              "       -0.02036176, -0.06711999,  0.25659257, -0.4567416 , -0.60071564,\n",
              "       -0.22344828, -0.4392194 ,  0.97381115,  0.3681648 ,  0.19141002,\n",
              "       -0.48742202, -0.04128001, -0.04573429,  0.3591787 , -0.43951008,\n",
              "        0.03149244, -0.19989212, -0.21019095, -0.80369115,  0.17895038,\n",
              "       -0.14084117, -0.26723173, -0.03773041,  0.23746075, -1.166712  ,\n",
              "       -0.0519082 ,  0.7816956 , -0.8064153 , -0.928075  , -0.74605155,\n",
              "       -0.02784475,  0.7627427 , -0.208018  , -0.18239547,  0.06733944,\n",
              "       -0.9546355 ,  0.92700714, -0.20665939,  0.15230346, -0.625781  ,\n",
              "        0.42323932,  0.41300523,  0.38656646, -0.5944492 , -0.27586007,\n",
              "        0.17944005, -0.47337997, -0.09685696, -0.0504779 ,  1.0443107 ,\n",
              "        0.60286844,  1.122905  , -0.4358851 , -0.17941938, -0.15807661,\n",
              "        0.6189111 , -0.01235243, -0.35109958,  0.18245295, -0.62413245,\n",
              "       -0.15990618,  0.16683787,  0.12973364,  0.6773733 , -0.27446327,\n",
              "        0.2923406 ,  0.4216487 ,  0.06796083,  0.39462206,  0.01497694,\n",
              "       -0.7142332 , -0.01468227,  0.8284825 , -0.3244304 ,  0.08804195,\n",
              "       -0.45968825, -0.4723677 ,  0.15129551, -0.33124992,  0.19740501,\n",
              "       -0.12354874, -0.19366811, -0.10086911, -0.3012191 ,  0.3273526 ,\n",
              "        0.41198948,  0.56533265, -0.2283447 , -0.30278012,  0.44484386,\n",
              "        0.703117  , -0.35086417,  0.5474151 ,  0.56062055,  0.19817199,\n",
              "       -0.06665702, -0.18528132,  0.6779117 ,  0.4352626 ,  0.00574133,\n",
              "       -0.02018054, -0.16077125,  0.39290428,  0.634719  , -0.2605676 ],\n",
              "      dtype=float32)"
            ]
          },
          "metadata": {},
          "execution_count": 8
        }
      ]
    },
    {
      "cell_type": "markdown",
      "source": [
        "# Vectores/Palabras más Similares para Protagonistas"
      ],
      "metadata": {
        "id": "lh9bBDH7dX0x"
      }
    },
    {
      "cell_type": "code",
      "source": [
        "personajes = [\"homer\", \"marge\", \"bart\", \"lisa\", \"maggie\"]\n",
        "for personaje in personajes:\n",
        "  for similitud in w2v_model.wv.most_similar(positive=[personaje], topn=2):\n",
        "    print(personaje, similitud)\n",
        "  print(\"\")"
      ],
      "metadata": {
        "id": "GOpxtcV3M9st",
        "colab": {
          "base_uri": "https://localhost:8080/"
        },
        "outputId": "3481aa15-7124-4f60-aa70-a29bca96b2f6"
      },
      "execution_count": 9,
      "outputs": [
        {
          "output_type": "stream",
          "name": "stdout",
          "text": [
            "homer ('marge', 0.5101196765899658)\n",
            "homer ('dad', 0.39377567172050476)\n",
            "\n",
            "marge ('homer', 0.5101196765899658)\n",
            "marge ('homie', 0.39671674370765686)\n",
            "\n",
            "bart ('lisa', 0.5017989873886108)\n",
            "bart ('dad', 0.48083242774009705)\n",
            "\n",
            "lisa ('bart', 0.5017989873886108)\n",
            "lisa ('honey', 0.3668513000011444)\n",
            "\n",
            "maggie ('bart', 0.3305065929889679)\n",
            "maggie ('baby', 0.2943394184112549)\n",
            "\n"
          ]
        }
      ]
    },
    {
      "cell_type": "markdown",
      "source": [
        "# Similitud de Bart con otros Personajes"
      ],
      "metadata": {
        "id": "KKJH_v7CefqC"
      }
    },
    {
      "cell_type": "code",
      "source": [
        "principal = \"bart\"\n",
        "personajes = [\"lisa\", \"milhouse\", \"homer\", \"marge\", \"nelson\"]\n",
        "\n",
        "for personaje in personajes:\n",
        "  print(\"Similitud entre\", principal, \"y\", personaje, \"=\",\n",
        "        w2v_model.wv.similarity(principal, personaje))"
      ],
      "metadata": {
        "id": "J3EhZ4xbedN6",
        "colab": {
          "base_uri": "https://localhost:8080/"
        },
        "outputId": "158f0ace-aabb-4a46-c336-262c8040856c"
      },
      "execution_count": 10,
      "outputs": [
        {
          "output_type": "stream",
          "name": "stdout",
          "text": [
            "Similitud entre bart y lisa = 0.501799\n",
            "Similitud entre bart y milhouse = 0.33638844\n",
            "Similitud entre bart y homer = 0.31096557\n",
            "Similitud entre bart y marge = 0.2752386\n",
            "Similitud entre bart y nelson = 0.23447007\n"
          ]
        }
      ]
    },
    {
      "cell_type": "markdown",
      "source": [
        "# Qué personaje no forma parte del grupo"
      ],
      "metadata": {
        "id": "cTjhzhZWfQZv"
      }
    },
    {
      "cell_type": "code",
      "source": [
        "grupo = [\"homer\", \"patty\", \"selma\"]\n",
        "print(\"El raro del grupo\", grupo, \"es\", w2v_model.wv.doesnt_match(grupo))"
      ],
      "metadata": {
        "id": "3aTmGpVXecxv",
        "colab": {
          "base_uri": "https://localhost:8080/"
        },
        "outputId": "38c06b5d-5578-42da-d5ba-c25e10f5a87e"
      },
      "execution_count": 11,
      "outputs": [
        {
          "output_type": "stream",
          "name": "stdout",
          "text": [
            "El raro del grupo ['homer', 'patty', 'selma'] es homer\n"
          ]
        }
      ]
    },
    {
      "cell_type": "markdown",
      "source": [
        "# Operaciones con Vectores\n"
      ],
      "metadata": {
        "id": "gSNtldosfxWT"
      }
    },
    {
      "cell_type": "markdown",
      "source": [
        "# Bart - divertido = Lisa"
      ],
      "metadata": {
        "id": "mgmpLdRehLyV"
      }
    },
    {
      "cell_type": "code",
      "source": [
        "w2v_model.wv.most_similar(positive=[\"bart\"], negative=[\"funny\"], topn=1)[0][0]"
      ],
      "metadata": {
        "id": "hp-kJrHVg0KA",
        "colab": {
          "base_uri": "https://localhost:8080/",
          "height": 36
        },
        "outputId": "4638b534-95f7-403d-d5f2-7306488bdfe1"
      },
      "execution_count": 12,
      "outputs": [
        {
          "output_type": "execute_result",
          "data": {
            "text/plain": [
              "'lisa'"
            ],
            "application/vnd.google.colaboratory.intrinsic+json": {
              "type": "string"
            }
          },
          "metadata": {},
          "execution_count": 12
        }
      ]
    },
    {
      "cell_type": "markdown",
      "source": [
        "# Lisa - inteligente = Bart"
      ],
      "metadata": {
        "id": "5BYuOe0Ihdix"
      }
    },
    {
      "cell_type": "code",
      "source": [
        "w2v_model.wv.most_similar(positive=[\"lisa\"], negative=[\"intelligent\"], topn=1)[0][0]"
      ],
      "metadata": {
        "id": "2hOC8bulg4YW",
        "colab": {
          "base_uri": "https://localhost:8080/",
          "height": 36
        },
        "outputId": "a016af4c-3757-410c-96c4-d6dfb38d0b0a"
      },
      "execution_count": 13,
      "outputs": [
        {
          "output_type": "execute_result",
          "data": {
            "text/plain": [
              "'bart'"
            ],
            "application/vnd.google.colaboratory.intrinsic+json": {
              "type": "string"
            }
          },
          "metadata": {},
          "execution_count": 13
        }
      ]
    },
    {
      "cell_type": "markdown",
      "source": [
        "# Homero - dona = Marge"
      ],
      "metadata": {
        "id": "yKj1FUoyhlgv"
      }
    },
    {
      "cell_type": "code",
      "source": [
        "w2v_model.wv.most_similar(positive=[\"homer\"], negative=[\"donut\"], topn=1)[0][0]"
      ],
      "metadata": {
        "id": "bQNIgUdUg9i_",
        "colab": {
          "base_uri": "https://localhost:8080/",
          "height": 36
        },
        "outputId": "3d330600-b4d7-4d20-c8aa-70d3ebfaa98d"
      },
      "execution_count": 14,
      "outputs": [
        {
          "output_type": "execute_result",
          "data": {
            "text/plain": [
              "'marge'"
            ],
            "application/vnd.google.colaboratory.intrinsic+json": {
              "type": "string"
            }
          },
          "metadata": {},
          "execution_count": 14
        }
      ]
    },
    {
      "cell_type": "markdown",
      "source": [
        "# Bart + adulto = Papá"
      ],
      "metadata": {
        "id": "VI1_vg03hzLF"
      }
    },
    {
      "cell_type": "code",
      "source": [
        "w2v_model.wv.most_similar(positive=[\"bart\", \"adult\"], topn=1)[0][0]"
      ],
      "metadata": {
        "id": "JPvrl82-fw_9",
        "colab": {
          "base_uri": "https://localhost:8080/",
          "height": 36
        },
        "outputId": "95716e88-05db-428a-8445-2cb12efef397"
      },
      "execution_count": 15,
      "outputs": [
        {
          "output_type": "execute_result",
          "data": {
            "text/plain": [
              "'dad'"
            ],
            "application/vnd.google.colaboratory.intrinsic+json": {
              "type": "string"
            }
          },
          "metadata": {},
          "execution_count": 15
        }
      ]
    },
    {
      "cell_type": "markdown",
      "source": [
        "# Homero - mujer = Marge"
      ],
      "metadata": {
        "id": "z387W44Dh8_S"
      }
    },
    {
      "cell_type": "code",
      "source": [
        "w2v_model.wv.most_similar(positive=[\"homer\"], negative=[\"woman\"], topn=1)[0][0]"
      ],
      "metadata": {
        "id": "H0OWjQO_gket",
        "colab": {
          "base_uri": "https://localhost:8080/",
          "height": 36
        },
        "outputId": "d82706b6-6ab3-4959-a897-5b4524a941d1"
      },
      "execution_count": 16,
      "outputs": [
        {
          "output_type": "execute_result",
          "data": {
            "text/plain": [
              "'marge'"
            ],
            "application/vnd.google.colaboratory.intrinsic+json": {
              "type": "string"
            }
          },
          "metadata": {},
          "execution_count": 16
        }
      ]
    },
    {
      "cell_type": "markdown",
      "source": [
        " #"
      ],
      "metadata": {
        "id": "bk7r0YtCqATj"
      }
    },
    {
      "cell_type": "markdown",
      "source": [
        "# Referencias\n",
        "\n",
        "### Conjunto de datos normalizados (Gutiérrez-Garcia, 2025):\n",
        "\n",
        "Gutiérrez-García, J.O. [Código Máquina]. (2025). Diálogos Normalizados de los Simpsons [Conjunto de Datos]. https://github.com/CodigoMaquina/code/blob/main/datos/dialogos_simpsons.csv\n",
        "\n",
        "### Conjunto de datos sin normalizar (Ambarish, 2025):\n",
        "\n",
        "Ambarish \"BUKUN\" (2025). Fun in Text Mining with Simpsons [Conjunto de Datos]. Kaggle. https://www.kaggle.com/ambarish/fun-in-text-mining-with-simpsons/data\n",
        "\n",
        "### Megret (2025) es el autor de la idea original de ejercicio de Word2Vec con los Simpsons:\n",
        "Megret, P. (2025). Gensim Word2Vec tutorial [Notebook]. Kaggle. https://www.kaggle.com/code/pierremegret/gensim-word2vec-tutorial"
      ],
      "metadata": {
        "id": "55CGjW6KnlnT"
      }
    }
  ]
}