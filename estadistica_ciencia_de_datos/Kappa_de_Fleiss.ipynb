{
  "nbformat": 4,
  "nbformat_minor": 0,
  "metadata": {
    "colab": {
      "provenance": []
    },
    "kernelspec": {
      "name": "python3",
      "display_name": "Python 3"
    },
    "language_info": {
      "name": "python"
    }
  },
  "cells": [
    {
      "cell_type": "markdown",
      "source": [
        "@author: Octavio Gutiérrez de Código Máquina\n",
        "\n",
        "URL del canal: https://www.youtube.com/CodigoMaquina\n",
        "\n",
        "URL del video: https://youtu.be/gVNufx47uNE\n",
        "\n",
        "## Kappa de Fleiss: acuerdo entre n anotadores"
      ],
      "metadata": {
        "id": "2ZxdO5MrZHWB"
      }
    },
    {
      "cell_type": "code",
      "execution_count": 1,
      "metadata": {
        "colab": {
          "base_uri": "https://localhost:8080/"
        },
        "id": "prS1wPUqRW_f",
        "outputId": "866d63c1-d4f0-4c32-8df1-73b9a2367765"
      },
      "outputs": [
        {
          "output_type": "execute_result",
          "data": {
            "text/plain": [
              "np.float64(0.6338912133891214)"
            ]
          },
          "metadata": {},
          "execution_count": 1
        }
      ],
      "source": [
        "from statsmodels.stats.inter_rater import fleiss_kappa\n",
        "# n = 5 anotadores\n",
        "# N = 5 instancias o pacientes\n",
        "# k = 5 categorías o etiquetas: [Depresión, Desorden, Esquizofrenia, Neurosis, Otro]\n",
        "etiquetas_asignadas = [ [5, 0, 0, 0, 0],\n",
        "                        [1, 1, 1, 1, 1],\n",
        "                        [0, 1, 4, 0, 0],\n",
        "                        [0, 0, 0, 0, 5],\n",
        "                        [0, 5, 0, 0, 0] ]\n",
        "kappa = fleiss_kappa(etiquetas_asignadas)\n",
        "kappa"
      ]
    }
  ]
}