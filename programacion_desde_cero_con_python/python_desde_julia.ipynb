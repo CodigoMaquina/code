{
  "nbformat": 4,
  "nbformat_minor": 0,
  "metadata": {
    "colab": {
      "provenance": []
    },
    "kernelspec": {
      "name": "julia",
      "display_name": "Julia"
    },
    "language_info": {
      "name": "julia"
    }
  },
  "cells": [
    {
      "cell_type": "markdown",
      "source": [
        "@author: Octavio Gutiérrez de Código Máquina\n",
        "\n",
        "URL del canal: https://www.youtube.com/CodigoMaquina\n",
        "\n",
        "URL del video: https://youtu.be/kNF4KOts87o"
      ],
      "metadata": {
        "id": "mP4tkLvF0cnN"
      }
    },
    {
      "cell_type": "markdown",
      "source": [
        "# PyCall para usar Python en Julia"
      ],
      "metadata": {
        "id": "odbPYVJxqMJF"
      }
    },
    {
      "cell_type": "code",
      "source": [
        "using Pkg\n",
        "Pkg.add(\"PyCall\")\n",
        "using PyCall"
      ],
      "metadata": {
        "colab": {
          "base_uri": "https://localhost:8080/"
        },
        "id": "aVoGpZKl0tpj",
        "outputId": "b1b0a881-8716-4772-856e-2a09fc351672",
        "collapsed": true
      },
      "execution_count": null,
      "outputs": [
        {
          "output_type": "stream",
          "name": "stderr",
          "text": [
            "\u001b[32m\u001b[1m    Updating\u001b[22m\u001b[39m registry at `~/.julia/registries/General.toml`\n",
            "\u001b[32m\u001b[1m   Resolving\u001b[22m\u001b[39m package versions...\n",
            "\u001b[32m\u001b[1m   Installed\u001b[22m\u001b[39m PyCall ─ v1.96.4\n",
            "\u001b[32m\u001b[1m    Updating\u001b[22m\u001b[39m `~/.julia/environments/v1.10/Project.toml`\n",
            "  \u001b[90m[438e738f] \u001b[39m\u001b[92m+ PyCall v1.96.4\u001b[39m\n",
            "\u001b[32m\u001b[1m    Updating\u001b[22m\u001b[39m `~/.julia/environments/v1.10/Manifest.toml`\n",
            "  \u001b[90m[438e738f] \u001b[39m\u001b[92m+ PyCall v1.96.4\u001b[39m\n",
            "\u001b[32m\u001b[1m    Building\u001b[22m\u001b[39m PyCall → `~/.julia/scratchspaces/44cfe95a-1eb2-52ea-b672-e2afdf69b78f/9816a3826b0ebf49ab4926e2b18842ad8b5c8f04/build.log`\n",
            "\u001b[32m\u001b[1mPrecompiling\u001b[22m\u001b[39m packages...\n",
            "  22133.0 ms\u001b[32m  ✓ \u001b[39mPyCall\n",
            "  1 dependency successfully precompiled in 32 seconds. 460 already precompiled.\n"
          ]
        }
      ]
    },
    {
      "cell_type": "markdown",
      "source": [
        "---\n",
        "\n"
      ],
      "metadata": {
        "id": "n28xt-88rRT5"
      }
    },
    {
      "cell_type": "markdown",
      "source": [
        "---"
      ],
      "metadata": {
        "id": "NSU3eD4mre5-"
      }
    },
    {
      "cell_type": "markdown",
      "source": [
        "---"
      ],
      "metadata": {
        "id": "dS_IBbEurRLh"
      }
    },
    {
      "cell_type": "markdown",
      "source": [
        "\n",
        "# Red Neuronal con TensorFlow de Python en Julia"
      ],
      "metadata": {
        "id": "-WIG8mc5rKFG"
      }
    },
    {
      "cell_type": "code",
      "source": [
        "using PyCall\n",
        "\n",
        "# Importando módulos de Python en Julia\n",
        "np = pyimport(\"numpy\")\n",
        "tf = pyimport(\"tensorflow\")\n",
        "sklearn = pyimport(\"sklearn\")\n",
        "\n",
        "# Importando funciones específicas\n",
        "train_test_split = sklearn.model_selection.train_test_split\n",
        "StandardScaler = sklearn.preprocessing.StandardScaler\n",
        "\n",
        "# Cargar conjunto de datos \"Iris\"\n",
        "iris = sklearn.datasets.load_iris()\n",
        "X = iris[\"data\"] # variables\n",
        "y = iris[\"target\"] # variable objetivo\n",
        "\n",
        "# Estandarización de variables\n",
        "escalador = StandardScaler()\n",
        "X_escalado = escalador.fit_transform(X)\n",
        "\n",
        "# Crear conjuntos de entrenamiento y prueba\n",
        "X_entrena, X_prueba, y_entrena, y_prueba = train_test_split(\n",
        "    X_escalado, y, test_size=0.3\n",
        ")\n",
        "\n",
        "# Convertir a arreglos de Numpy para TensorFlow\n",
        "X_entrena = np.array(X_entrena)\n",
        "X_prueba = np.array(X_prueba)\n",
        "y_entrena = np.array(y_entrena)\n",
        "y_prueba = np.array(y_prueba)\n",
        "\n",
        "# Construyendo el Modelo de TensorFlow\n",
        "modelo = tf.keras.models.Sequential([\n",
        "    tf.keras.layers.InputLayer((size(X_entrena, 2), )),\n",
        "    tf.keras.layers.Dense(64, activation=\"relu\"),\n",
        "    tf.keras.layers.Dense(3, activation=\"softmax\")\n",
        "])\n",
        "\n",
        "# Configurando el Entrenamiento\n",
        "modelo.compile(\n",
        "    optimizer=\"adam\",\n",
        "    loss=\"sparse_categorical_crossentropy\",\n",
        "    metrics=[\"accuracy\"]\n",
        ")\n",
        "\n",
        "# Entrenamiento de la Red Neuronal\n",
        "modelo.fit(X_entrena, y_entrena, epochs=100, verbose=0, batch_size=16)\n",
        "\n",
        "# Evaluación del Modelo\n",
        "print(\"Accuracy: \",  modelo.evaluate(X_prueba, y_prueba, verbose=0)[2])"
      ],
      "metadata": {
        "colab": {
          "base_uri": "https://localhost:8080/"
        },
        "id": "ufy3cuHAKb8I",
        "outputId": "d064cb3e-b596-49fc-f612-44c5e30ab0e4"
      },
      "execution_count": null,
      "outputs": [
        {
          "output_type": "stream",
          "name": "stdout",
          "text": [
            "Accuracy: 0.9777777791023254"
          ]
        }
      ]
    }
  ]
}