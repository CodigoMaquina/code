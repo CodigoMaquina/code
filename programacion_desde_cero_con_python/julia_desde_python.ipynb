{
  "nbformat": 4,
  "nbformat_minor": 0,
  "metadata": {
    "colab": {
      "provenance": []
    },
    "kernelspec": {
      "name": "python3",
      "display_name": "Python 3"
    },
    "language_info": {
      "name": "python"
    }
  },
  "cells": [
    {
      "cell_type": "markdown",
      "source": [
        "@author: Octavio Gutiérrez de Código Máquina\n",
        "\n",
        "URL del canal: https://www.youtube.com/CodigoMaquina\n",
        "\n",
        "URL del video: https://youtu.be/kNF4KOts87o"
      ],
      "metadata": {
        "id": "6dwC00d-0U4u"
      }
    },
    {
      "cell_type": "markdown",
      "source": [
        "# JuliaCall para usar Julia en Python"
      ],
      "metadata": {
        "id": "FETUN3nclGvs"
      }
    },
    {
      "cell_type": "code",
      "source": [
        "!pip install juliacall"
      ],
      "metadata": {
        "colab": {
          "base_uri": "https://localhost:8080/"
        },
        "collapsed": true,
        "id": "P1dBtCBMOys8",
        "outputId": "981441dd-aae1-4ce0-c91b-18c3b61283a7"
      },
      "execution_count": null,
      "outputs": [
        {
          "output_type": "stream",
          "name": "stdout",
          "text": [
            "Requirement already satisfied: juliacall in /usr/local/lib/python3.11/dist-packages (0.9.25)\n",
            "Requirement already satisfied: juliapkg~=0.1.17 in /usr/local/lib/python3.11/dist-packages (from juliacall) (0.1.17)\n",
            "Requirement already satisfied: filelock<4.0,>=3.16 in /usr/local/lib/python3.11/dist-packages (from juliapkg~=0.1.17->juliacall) (3.18.0)\n",
            "Requirement already satisfied: semver<4.0,>=3.0 in /usr/local/lib/python3.11/dist-packages (from juliapkg~=0.1.17->juliacall) (3.0.4)\n"
          ]
        }
      ]
    },
    {
      "cell_type": "markdown",
      "source": [
        "---"
      ],
      "metadata": {
        "id": "ogBq4r2mrh9F"
      }
    },
    {
      "cell_type": "markdown",
      "source": [
        "---"
      ],
      "metadata": {
        "id": "Wklm1hQgrh2p"
      }
    },
    {
      "cell_type": "markdown",
      "source": [
        "---"
      ],
      "metadata": {
        "id": "OWGT5QBIrhwm"
      }
    },
    {
      "cell_type": "markdown",
      "source": [
        "# Comparación: Python (list) vs Numpy (C) vs Julia\n",
        "## Multiplicación de Matrices"
      ],
      "metadata": {
        "id": "bFNhzYaJnbPr"
      }
    },
    {
      "cell_type": "code",
      "source": [
        "from time import time\n",
        "import numpy as np\n",
        "from juliacall import Main as jl\n",
        "\n",
        "# Creando matrices con valores aleatorios de 200 x 200 elementos\n",
        "n = 200\n",
        "A = np.random.rand(n, n)\n",
        "B = np.random.rand(n, n)\n",
        "\n",
        "# Implementación en Julia vía JuliaCall\n",
        "jl.seval(\"\"\"\n",
        "function mult_julia(A, B)\n",
        "    n = size(A, 1)\n",
        "    C = zeros(n, n)\n",
        "    for i in 1:n\n",
        "        for j in 1:n\n",
        "            for k in 1:n\n",
        "                C[i, j] += A[i, k] * B[k, j]\n",
        "            end\n",
        "        end\n",
        "    end\n",
        "    return C\n",
        "end\n",
        "\"\"\")\n",
        "\n",
        "# Implementación ingenua de multiplicacion de matrices con \"list\"\n",
        "def mult_python(A, B):\n",
        "    n = len(A)\n",
        "    C = [[0.0 for _ in range(n)] for _ in range(n)]\n",
        "    for i in range(n):\n",
        "        for j in range(n):\n",
        "            for k in range(n):\n",
        "                C[i][j] += A[i][k] * B[k][j]\n",
        "    return C\n",
        "\n",
        "\n",
        "# Multiplicación con Python puro\n",
        "inicio = time()\n",
        "C_py = mult_python(A.tolist(), B.tolist())  # Convierte arrays de Numpy a listas\n",
        "print(\"🔴 Tiempo de Python puro:\", round(time() - inicio, 3), \"segundos\")\n",
        "\n",
        "# Multiplicación con NumPy implementado en C\n",
        "inicio = time()\n",
        "C_np = A @ B\n",
        "print(\"🟡 Tiempo de NumPy:\", round(time() - inicio, 3), \"segundos\")\n",
        "\n",
        "# Multiplicación con Julia, 1a vez para compilar\n",
        "inicio = time()\n",
        "C_jl = jl.mult_julia(A, B)\n",
        "print(\"🟢 Tiempo de Julia 1a vez:\", round(time() - inicio, 3), \"segundos\")\n",
        "\n",
        "# Multiplicación con Julia, ya compilado en cache\n",
        "inicio = time()\n",
        "C_jl = jl.mult_julia(A, B)\n",
        "print(\"🔵 Tiempo de Julia 2a vez:\", round(time() - inicio, 3), \"segundos\")"
      ],
      "metadata": {
        "colab": {
          "base_uri": "https://localhost:8080/"
        },
        "id": "GQL_gb0ihsef",
        "outputId": "631e5b73-da65-48e8-bba1-6f5258282829"
      },
      "execution_count": null,
      "outputs": [
        {
          "output_type": "stream",
          "name": "stdout",
          "text": [
            "🔴 Tiempo de Python puro: 1.778 segundos\n",
            "🟡 Tiempo de NumPy: 0.019 segundos\n",
            "🟢 Tiempo de Julia 1a vez: 0.186 segundos\n",
            "🔵 Tiempo de Julia 2a vez: 0.034 segundos\n"
          ]
        }
      ]
    }
  ]
}